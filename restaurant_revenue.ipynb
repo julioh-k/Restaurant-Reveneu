{
 "cells": [
  {
   "cell_type": "markdown",
   "id": "05624311-4f9f-46e6-a8bb-2a021cea4ba9",
   "metadata": {},
   "source": [
    "## Restaurant revenue "
   ]
  },
  {
   "cell_type": "markdown",
   "id": "251dec36-cb3c-47af-9c8f-bd7a0bd3f5b9",
   "metadata": {},
   "source": [
    "#### Problem Statement"
   ]
  },
  {
   "cell_type": "markdown",
   "id": "7bce4456-d9de-405f-907f-927894081930",
   "metadata": {},
   "source": [
    "predict and analyze the revenues of 137 restaurants depending on various features found in the dataframe"
   ]
  },
  {
   "cell_type": "markdown",
   "id": "9524bc6e-2434-4e30-bdd8-0ea5341a5e08",
   "metadata": {},
   "source": [
    "- Id : Restaurant id. \n",
    "- Open Date : opening date for a restaurant\n",
    "- City : City that the restaurant is in. Note that there are unicode in the names. \n",
    "- City Group: Type of the city. Big cities, or Other. \n",
    "- Type: Type of the restaurant. \n",
    "   - FC: Food Court \n",
    "   - IL: Inline \n",
    "   - DT: Drive Thru \n",
    "   - MB: Mobile\n",
    "- P1, P2 - P37: There are three categories . Demographic data . Real estate data . Commercial data .\n",
    "- Revenue: The revenue column indicates a (transformed) revenue of the restaurant in a given year and is the target of predictive analysis.  "
   ]
  },
  {
   "cell_type": "markdown",
   "id": "df661675-fff3-4a84-8dcd-3cea3401101c",
   "metadata": {},
   "source": [
    "metric ---> RMSE"
   ]
  },
  {
   "cell_type": "code",
   "execution_count": 1,
   "id": "610b6893-4d30-4c2f-b1d3-4c0096f4572d",
   "metadata": {},
   "outputs": [],
   "source": [
    "#imports\n",
    "\n",
    "import pandas as pd\n",
    "import numpy as np\n",
    "import matplotlib.pyplot as plt\n",
    "import seaborn as sns\n",
    "\n",
    "from sklearn.preprocessing import StandardScaler, PolynomialFeatures\n",
    "from sklearn.model_selection import train_test_split\n",
    "from sklearn.linear_model import LinearRegression\n",
    "from sklearn.linear_model import Ridge\n",
    "from sklearn.model_selection import GridSearchCV\n",
    "from sklearn.neighbors import KNeighborsRegressor\n",
    "from sklearn.ensemble import RandomForestRegressor\n",
    "from sklearn import metrics\n",
    "\n",
    "\n"
   ]
  },
  {
   "cell_type": "markdown",
   "id": "bd57cf7a-6cb2-433f-b4c0-5fee66925b4d",
   "metadata": {},
   "source": [
    "### Data reading:"
   ]
  },
  {
   "cell_type": "code",
   "execution_count": 2,
   "id": "053a6b34-5b6b-4088-93ff-710b8dab18b2",
   "metadata": {},
   "outputs": [],
   "source": [
    "# reading data\n",
    "\n",
    "train=pd.read_csv('./restaurant-revenue-prediction/train.csv')\n",
    "test=pd.read_csv('./restaurant-revenue-prediction/test.csv')\n"
   ]
  },
  {
   "cell_type": "code",
   "execution_count": 3,
   "id": "318d0722-aa29-46ce-a3ea-abb9d37c7275",
   "metadata": {
    "tags": []
   },
   "outputs": [
    {
     "data": {
      "text/html": [
       "<div>\n",
       "<style scoped>\n",
       "    .dataframe tbody tr th:only-of-type {\n",
       "        vertical-align: middle;\n",
       "    }\n",
       "\n",
       "    .dataframe tbody tr th {\n",
       "        vertical-align: top;\n",
       "    }\n",
       "\n",
       "    .dataframe thead th {\n",
       "        text-align: right;\n",
       "    }\n",
       "</style>\n",
       "<table border=\"1\" class=\"dataframe\">\n",
       "  <thead>\n",
       "    <tr style=\"text-align: right;\">\n",
       "      <th></th>\n",
       "      <th>Id</th>\n",
       "      <th>Open Date</th>\n",
       "      <th>City</th>\n",
       "      <th>City Group</th>\n",
       "      <th>Type</th>\n",
       "      <th>P1</th>\n",
       "      <th>P2</th>\n",
       "      <th>P3</th>\n",
       "      <th>P4</th>\n",
       "      <th>P5</th>\n",
       "      <th>...</th>\n",
       "      <th>P29</th>\n",
       "      <th>P30</th>\n",
       "      <th>P31</th>\n",
       "      <th>P32</th>\n",
       "      <th>P33</th>\n",
       "      <th>P34</th>\n",
       "      <th>P35</th>\n",
       "      <th>P36</th>\n",
       "      <th>P37</th>\n",
       "      <th>revenue</th>\n",
       "    </tr>\n",
       "  </thead>\n",
       "  <tbody>\n",
       "    <tr>\n",
       "      <th>0</th>\n",
       "      <td>0</td>\n",
       "      <td>07/17/1999</td>\n",
       "      <td>İstanbul</td>\n",
       "      <td>Big Cities</td>\n",
       "      <td>IL</td>\n",
       "      <td>4</td>\n",
       "      <td>5.0</td>\n",
       "      <td>4.0</td>\n",
       "      <td>4.0</td>\n",
       "      <td>2</td>\n",
       "      <td>...</td>\n",
       "      <td>3.0</td>\n",
       "      <td>5</td>\n",
       "      <td>3</td>\n",
       "      <td>4</td>\n",
       "      <td>5</td>\n",
       "      <td>5</td>\n",
       "      <td>4</td>\n",
       "      <td>3</td>\n",
       "      <td>4</td>\n",
       "      <td>5653753.0</td>\n",
       "    </tr>\n",
       "    <tr>\n",
       "      <th>1</th>\n",
       "      <td>1</td>\n",
       "      <td>02/14/2008</td>\n",
       "      <td>Ankara</td>\n",
       "      <td>Big Cities</td>\n",
       "      <td>FC</td>\n",
       "      <td>4</td>\n",
       "      <td>5.0</td>\n",
       "      <td>4.0</td>\n",
       "      <td>4.0</td>\n",
       "      <td>1</td>\n",
       "      <td>...</td>\n",
       "      <td>3.0</td>\n",
       "      <td>0</td>\n",
       "      <td>0</td>\n",
       "      <td>0</td>\n",
       "      <td>0</td>\n",
       "      <td>0</td>\n",
       "      <td>0</td>\n",
       "      <td>0</td>\n",
       "      <td>0</td>\n",
       "      <td>6923131.0</td>\n",
       "    </tr>\n",
       "    <tr>\n",
       "      <th>2</th>\n",
       "      <td>2</td>\n",
       "      <td>03/09/2013</td>\n",
       "      <td>Diyarbakır</td>\n",
       "      <td>Other</td>\n",
       "      <td>IL</td>\n",
       "      <td>2</td>\n",
       "      <td>4.0</td>\n",
       "      <td>2.0</td>\n",
       "      <td>5.0</td>\n",
       "      <td>2</td>\n",
       "      <td>...</td>\n",
       "      <td>3.0</td>\n",
       "      <td>0</td>\n",
       "      <td>0</td>\n",
       "      <td>0</td>\n",
       "      <td>0</td>\n",
       "      <td>0</td>\n",
       "      <td>0</td>\n",
       "      <td>0</td>\n",
       "      <td>0</td>\n",
       "      <td>2055379.0</td>\n",
       "    </tr>\n",
       "    <tr>\n",
       "      <th>3</th>\n",
       "      <td>3</td>\n",
       "      <td>02/02/2012</td>\n",
       "      <td>Tokat</td>\n",
       "      <td>Other</td>\n",
       "      <td>IL</td>\n",
       "      <td>6</td>\n",
       "      <td>4.5</td>\n",
       "      <td>6.0</td>\n",
       "      <td>6.0</td>\n",
       "      <td>4</td>\n",
       "      <td>...</td>\n",
       "      <td>7.5</td>\n",
       "      <td>25</td>\n",
       "      <td>12</td>\n",
       "      <td>10</td>\n",
       "      <td>6</td>\n",
       "      <td>18</td>\n",
       "      <td>12</td>\n",
       "      <td>12</td>\n",
       "      <td>6</td>\n",
       "      <td>2675511.0</td>\n",
       "    </tr>\n",
       "    <tr>\n",
       "      <th>4</th>\n",
       "      <td>4</td>\n",
       "      <td>05/09/2009</td>\n",
       "      <td>Gaziantep</td>\n",
       "      <td>Other</td>\n",
       "      <td>IL</td>\n",
       "      <td>3</td>\n",
       "      <td>4.0</td>\n",
       "      <td>3.0</td>\n",
       "      <td>4.0</td>\n",
       "      <td>2</td>\n",
       "      <td>...</td>\n",
       "      <td>3.0</td>\n",
       "      <td>5</td>\n",
       "      <td>1</td>\n",
       "      <td>3</td>\n",
       "      <td>2</td>\n",
       "      <td>3</td>\n",
       "      <td>4</td>\n",
       "      <td>3</td>\n",
       "      <td>3</td>\n",
       "      <td>4316715.0</td>\n",
       "    </tr>\n",
       "  </tbody>\n",
       "</table>\n",
       "<p>5 rows × 43 columns</p>\n",
       "</div>"
      ],
      "text/plain": [
       "   Id   Open Date        City  City Group Type  P1   P2   P3   P4  P5  ...  \\\n",
       "0   0  07/17/1999    İstanbul  Big Cities   IL   4  5.0  4.0  4.0   2  ...   \n",
       "1   1  02/14/2008      Ankara  Big Cities   FC   4  5.0  4.0  4.0   1  ...   \n",
       "2   2  03/09/2013  Diyarbakır       Other   IL   2  4.0  2.0  5.0   2  ...   \n",
       "3   3  02/02/2012       Tokat       Other   IL   6  4.5  6.0  6.0   4  ...   \n",
       "4   4  05/09/2009   Gaziantep       Other   IL   3  4.0  3.0  4.0   2  ...   \n",
       "\n",
       "   P29  P30  P31  P32  P33  P34  P35  P36  P37    revenue  \n",
       "0  3.0    5    3    4    5    5    4    3    4  5653753.0  \n",
       "1  3.0    0    0    0    0    0    0    0    0  6923131.0  \n",
       "2  3.0    0    0    0    0    0    0    0    0  2055379.0  \n",
       "3  7.5   25   12   10    6   18   12   12    6  2675511.0  \n",
       "4  3.0    5    1    3    2    3    4    3    3  4316715.0  \n",
       "\n",
       "[5 rows x 43 columns]"
      ]
     },
     "execution_count": 3,
     "metadata": {},
     "output_type": "execute_result"
    }
   ],
   "source": [
    "train.head()"
   ]
  },
  {
   "cell_type": "code",
   "execution_count": 4,
   "id": "b4053603-c67a-4b48-aacf-3230e32f12df",
   "metadata": {
    "tags": []
   },
   "outputs": [
    {
     "data": {
      "text/plain": [
       "(137, 43)"
      ]
     },
     "execution_count": 4,
     "metadata": {},
     "output_type": "execute_result"
    }
   ],
   "source": [
    "train.shape"
   ]
  },
  {
   "cell_type": "code",
   "execution_count": 5,
   "id": "9a4677e3-9b25-487e-a07d-bab3cf0e3961",
   "metadata": {
    "tags": []
   },
   "outputs": [
    {
     "name": "stdout",
     "output_type": "stream",
     "text": [
      "<class 'pandas.core.frame.DataFrame'>\n",
      "RangeIndex: 137 entries, 0 to 136\n",
      "Data columns (total 43 columns):\n",
      " #   Column      Non-Null Count  Dtype  \n",
      "---  ------      --------------  -----  \n",
      " 0   Id          137 non-null    int64  \n",
      " 1   Open Date   137 non-null    object \n",
      " 2   City        137 non-null    object \n",
      " 3   City Group  137 non-null    object \n",
      " 4   Type        137 non-null    object \n",
      " 5   P1          137 non-null    int64  \n",
      " 6   P2          137 non-null    float64\n",
      " 7   P3          137 non-null    float64\n",
      " 8   P4          137 non-null    float64\n",
      " 9   P5          137 non-null    int64  \n",
      " 10  P6          137 non-null    int64  \n",
      " 11  P7          137 non-null    int64  \n",
      " 12  P8          137 non-null    int64  \n",
      " 13  P9          137 non-null    int64  \n",
      " 14  P10         137 non-null    int64  \n",
      " 15  P11         137 non-null    int64  \n",
      " 16  P12         137 non-null    int64  \n",
      " 17  P13         137 non-null    float64\n",
      " 18  P14         137 non-null    int64  \n",
      " 19  P15         137 non-null    int64  \n",
      " 20  P16         137 non-null    int64  \n",
      " 21  P17         137 non-null    int64  \n",
      " 22  P18         137 non-null    int64  \n",
      " 23  P19         137 non-null    int64  \n",
      " 24  P20         137 non-null    int64  \n",
      " 25  P21         137 non-null    int64  \n",
      " 26  P22         137 non-null    int64  \n",
      " 27  P23         137 non-null    int64  \n",
      " 28  P24         137 non-null    int64  \n",
      " 29  P25         137 non-null    int64  \n",
      " 30  P26         137 non-null    float64\n",
      " 31  P27         137 non-null    float64\n",
      " 32  P28         137 non-null    float64\n",
      " 33  P29         137 non-null    float64\n",
      " 34  P30         137 non-null    int64  \n",
      " 35  P31         137 non-null    int64  \n",
      " 36  P32         137 non-null    int64  \n",
      " 37  P33         137 non-null    int64  \n",
      " 38  P34         137 non-null    int64  \n",
      " 39  P35         137 non-null    int64  \n",
      " 40  P36         137 non-null    int64  \n",
      " 41  P37         137 non-null    int64  \n",
      " 42  revenue     137 non-null    float64\n",
      "dtypes: float64(9), int64(30), object(4)\n",
      "memory usage: 46.1+ KB\n"
     ]
    }
   ],
   "source": [
    "train.info()"
   ]
  },
  {
   "cell_type": "code",
   "execution_count": 6,
   "id": "6de4db05-e02e-4e87-b73b-cf8fe651e055",
   "metadata": {
    "tags": []
   },
   "outputs": [],
   "source": [
    "train['Open Date']= pd.to_datetime(train['Open Date'])\n"
   ]
  },
  {
   "cell_type": "markdown",
   "id": "0fcaad62-9db6-4d01-9168-a92431929ea1",
   "metadata": {},
   "source": [
    "### Data analysis:"
   ]
  },
  {
   "cell_type": "code",
   "execution_count": 7,
   "id": "8e00d442-72bf-4321-8151-92481d6e4162",
   "metadata": {},
   "outputs": [],
   "source": [
    "train_time= train.copy()"
   ]
  },
  {
   "cell_type": "code",
   "execution_count": 8,
   "id": "4c15b9f0-4ff6-4c05-83d7-4dcebf60db8e",
   "metadata": {},
   "outputs": [],
   "source": [
    "train_time.set_index('Open Date',inplace=True)"
   ]
  },
  {
   "cell_type": "code",
   "execution_count": 9,
   "id": "5f61b0b1-b6f1-4c34-8781-99e58e8b0c2d",
   "metadata": {},
   "outputs": [
    {
     "data": {
      "image/png": "[encoded data removed]",
      "text/plain": [
       "<Figure size 864x432 with 1 Axes>"
      ]
     },
     "metadata": {
      "needs_background": "light"
     },
     "output_type": "display_data"
    }
   ],
   "source": [
    "train_time['revenue'].plot(figsize=(12,6));\n",
    "plt.title('Revenue years',fontsize=17);"
   ]
  },
  {
   "cell_type": "code",
   "execution_count": 10,
   "id": "72129ba7-e4b2-4635-b5fe-c6ddab6502aa",
   "metadata": {},
   "outputs": [
    {
     "data": {
      "text/plain": [
       "Index(['Id', 'Open Date', 'City', 'City Group', 'Type', 'P1', 'P2', 'P3', 'P4',\n",
       "       'P5', 'P6', 'P7', 'P8', 'P9', 'P10', 'P11', 'P12', 'P13', 'P14', 'P15',\n",
       "       'P16', 'P17', 'P18', 'P19', 'P20', 'P21', 'P22', 'P23', 'P24', 'P25',\n",
       "       'P26', 'P27', 'P28', 'P29', 'P30', 'P31', 'P32', 'P33', 'P34', 'P35',\n",
       "       'P36', 'P37', 'revenue'],\n",
       "      dtype='object')"
      ]
     },
     "execution_count": 10,
     "metadata": {},
     "output_type": "execute_result"
    }
   ],
   "source": [
    "train.columns"
   ]
  },
  {
   "cell_type": "code",
   "execution_count": 11,
   "id": "5f61dcde-2a1c-4729-be35-e47ca566e0a3",
   "metadata": {},
   "outputs": [
    {
     "data": {
      "image/png": "[encoded data removed]",
      "text/plain": [
       "<Figure size 720x648 with 1 Axes>"
      ]
     },
     "metadata": {
      "needs_background": "light"
     },
     "output_type": "display_data"
    }
   ],
   "source": [
    "plt.figure(figsize=(10, 9))\n",
    "train['City'].value_counts().plot(kind='barh');\n",
    "plt.title('Cities where there are more restaurants',fontsize=17);"
   ]
  },
  {
   "cell_type": "code",
   "execution_count": 12,
   "id": "058dcfb4-dcdc-433a-8a33-4393f2126a11",
   "metadata": {},
   "outputs": [
    {
     "data": {
      "text/plain": [
       "<Figure size 720x648 with 0 Axes>"
      ]
     },
     "metadata": {},
     "output_type": "display_data"
    },
    {
     "data": {
      "image/png": "[encoded data removed]",
      "text/plain": [
       "<Figure size 360x360 with 1 Axes>"
      ]
     },
     "metadata": {
      "needs_background": "light"
     },
     "output_type": "display_data"
    }
   ],
   "source": [
    "plt.figure(figsize=(10, 9));\n",
    "sns.catplot(x='City Group', y='revenue', kind='swarm', data=train);\n",
    "plt.title('Revenue Big  VS Small cities',fontsize=17);"
   ]
  },
  {
   "cell_type": "code",
   "execution_count": 13,
   "id": "3377b0e7-7bb1-4eaf-a1a1-abf87f34ebe7",
   "metadata": {},
   "outputs": [
    {
     "data": {
      "image/png": "[encoded data removed]",
      "text/plain": [
       "<Figure size 432x288 with 1 Axes>"
      ]
     },
     "metadata": {
      "needs_background": "light"
     },
     "output_type": "display_data"
    }
   ],
   "source": [
    "train[\"Type\"].value_counts().plot(kind='bar');\n",
    "plt.title('Most popular type of restaurant',fontsize=17);"
   ]
  },
  {
   "cell_type": "code",
   "execution_count": 14,
   "id": "065cf715-c09b-4fc8-bcce-8ba9ad978554",
   "metadata": {},
   "outputs": [
    {
     "data": {
      "text/plain": [
       "<Figure size 720x648 with 0 Axes>"
      ]
     },
     "metadata": {},
     "output_type": "display_data"
    },
    {
     "data": {
      "image/png": "[encoded data removed]",
      "text/plain": [
       "<Figure size 360x360 with 1 Axes>"
      ]
     },
     "metadata": {
      "needs_background": "light"
     },
     "output_type": "display_data"
    }
   ],
   "source": [
    "plt.figure(figsize=(10, 9))\n",
    "sns.catplot(x='Type', y='revenue', kind='swarm', data=train);\n",
    "plt.title('Most popular type of restaurant',fontsize=17);"
   ]
  },
  {
   "cell_type": "markdown",
   "id": "17796ec2-ce37-469b-abcd-07421b5bda27",
   "metadata": {},
   "source": [
    "###\n"
   ]
  },
  {
   "cell_type": "code",
   "execution_count": 16,
   "id": "4b24e8b9-fb92-4329-a88b-182b304294ed",
   "metadata": {},
   "outputs": [
    {
     "data": {
      "text/plain": [
       "(137, 42)"
      ]
     },
     "execution_count": 16,
     "metadata": {},
     "output_type": "execute_result"
    }
   ],
   "source": [
    "# selecting revenue as a target\n",
    "y= train['revenue']\n",
    "\n",
    "#dropping target from the train dataframe\n",
    "train.drop('revenue',axis=1,inplace=True)\n",
    "train.shape"
   ]
  },
  {
   "cell_type": "code",
   "execution_count": 17,
   "id": "46627c11-17ee-47c2-a31f-df6c7d5ebbe2",
   "metadata": {},
   "outputs": [
    {
     "data": {
      "text/plain": [
       "Index(['Id', 'Open Date', 'City', 'P1', 'P2', 'P3', 'P4', 'P5', 'P6', 'P7',\n",
       "       'P8', 'P9', 'P10', 'P11', 'P12', 'P13', 'P14', 'P15', 'P16', 'P17',\n",
       "       'P18', 'P19', 'P20', 'P21', 'P22', 'P23', 'P24', 'P25', 'P26', 'P27',\n",
       "       'P28', 'P29', 'P30', 'P31', 'P32', 'P33', 'P34', 'P35', 'P36', 'P37',\n",
       "       'City Group_Other', 'Type_FC', 'Type_IL'],\n",
       "      dtype='object')"
      ]
     },
     "execution_count": 17,
     "metadata": {},
     "output_type": "execute_result"
    }
   ],
   "source": [
    "# creating dummies variables for city group and type\n",
    "train=pd.get_dummies(train,columns=['City Group','Type'],drop_first=True)\n",
    "test=pd.get_dummies(test,columns=['City Group','Type'],drop_first=True)\n",
    "\n",
    "# list of cloumns\n",
    "train.columns"
   ]
  },
  {
   "cell_type": "code",
   "execution_count": 18,
   "id": "8d6f9a02-b11c-4f81-87ac-1d07dd16eaf8",
   "metadata": {},
   "outputs": [
    {
     "data": {
      "text/plain": [
       "(137, 40)"
      ]
     },
     "execution_count": 18,
     "metadata": {},
     "output_type": "execute_result"
    }
   ],
   "source": [
    "# selecting X for the model\n",
    "X= train.drop(['Id','Open Date', 'City'],axis=1)\n",
    "features = X.columns\n",
    "X.shape"
   ]
  },
  {
   "cell_type": "markdown",
   "id": "ee169530-32d7-4997-b1d2-9a2c306c4087",
   "metadata": {},
   "source": [
    "### Models"
   ]
  },
  {
   "cell_type": "code",
   "execution_count": 19,
   "id": "bd6b172a-4497-45ce-9be8-49239c0bc2d7",
   "metadata": {},
   "outputs": [
    {
     "data": {
      "text/plain": [
       "(137, 860)"
      ]
     },
     "execution_count": 19,
     "metadata": {},
     "output_type": "execute_result"
    }
   ],
   "source": [
    "# Instantiate our PolynomialFeatures \n",
    "poly = PolynomialFeatures(include_bias = False, degree=2, interaction_only=False)\n",
    "\n",
    "# Fit and transform our X data.\n",
    "X_overfit = poly.fit_transform(X)\n",
    "X_overfit.shape"
   ]
  },
  {
   "cell_type": "code",
   "execution_count": 20,
   "id": "4433ecb1-838e-4ba9-997f-e16fca1fb4aa",
   "metadata": {},
   "outputs": [],
   "source": [
    "#split our data\n",
    "\n",
    "X_train, X_test, y_train, y_test = train_test_split(X_overfit, y, test_size=.33, random_state=42)"
   ]
  },
  {
   "cell_type": "code",
   "execution_count": 21,
   "id": "ea05ead2-016b-4e82-8664-98fe5c8ac726",
   "metadata": {},
   "outputs": [],
   "source": [
    "# scale data\n",
    "ss = StandardScaler()\n",
    "\n",
    "X_train= ss.fit_transform(X_train) \n",
    "\n",
    "X_test= ss.transform(X_test)"
   ]
  },
  {
   "cell_type": "markdown",
   "id": "40cd8cb5-b41e-45e3-ac5a-29a4e49f8803",
   "metadata": {},
   "source": [
    "### Linear Regression"
   ]
  },
  {
   "cell_type": "code",
   "execution_count": 22,
   "id": "079d5baf-d0ca-49c9-9d03-dd7281aa18f3",
   "metadata": {},
   "outputs": [
    {
     "name": "stdout",
     "output_type": "stream",
     "text": [
      "RMSE training: 4.003059365125201e-08\n",
      "RMSE testing: 17675665.061205473\n"
     ]
    }
   ],
   "source": [
    "#Instantiate our model.\n",
    "linreg = LinearRegression()\n",
    "linreg.fit(X_train ,y_train)\n",
    "\n",
    "#create predictions\n",
    "train_preds = linreg.predict(X_train)\n",
    "test_preds = linreg.predict(X_test)\n",
    "\n",
    "# RMSE\n",
    "print(f'RMSE training: {metrics.mean_squared_error(y_train, train_preds, squared = False)}')\n",
    "print(f'RMSE testing: {metrics.mean_squared_error(y_test, test_preds, squared = False)}')"
   ]
  },
  {
   "cell_type": "markdown",
   "id": "9976e199-ca83-4188-adb3-3ce722bb663d",
   "metadata": {},
   "source": [
    "### Rigde "
   ]
  },
  {
   "cell_type": "code",
   "execution_count": 23,
   "id": "e3085d54-85a5-413c-a42f-15c90f770d97",
   "metadata": {},
   "outputs": [
    {
     "name": "stdout",
     "output_type": "stream",
     "text": [
      "RMSE training: 1109581.7850351275\n",
      "RMSE testing: 7033187.887125345\n"
     ]
    }
   ],
   "source": [
    "#Instantiate\n",
    "ridge_model = Ridge(alpha=5)\n",
    "ridge_model.fit(X_train ,y_train)\n",
    "\n",
    "#create predictions\n",
    "train_preds = ridge_model.predict(X_train)\n",
    "test_preds = ridge_model.predict(X_test)\n",
    "# RMSE\n",
    "print(f'RMSE training: {metrics.mean_squared_error(y_train, train_preds, squared = False)}')\n",
    "print(f'RMSE testing: {metrics.mean_squared_error(y_test, test_preds, squared = False)}')"
   ]
  },
  {
   "cell_type": "markdown",
   "id": "50c35b1a-3439-44b3-befe-b6de9a525d42",
   "metadata": {},
   "source": [
    "### knn Regressor"
   ]
  },
  {
   "cell_type": "code",
   "execution_count": 24,
   "id": "6d96f9e8-34af-4353-a1b4-a4fc52d61b0f",
   "metadata": {},
   "outputs": [],
   "source": [
    "knn_params = {\n",
    "    'n_neighbors': range(1, 51, 5),\n",
    "    'weights': ['uniform', 'distance']\n",
    "}"
   ]
  },
  {
   "cell_type": "code",
   "execution_count": 25,
   "id": "66cd0c59-1cec-496d-bf1f-485824d7a6b6",
   "metadata": {},
   "outputs": [
    {
     "name": "stdout",
     "output_type": "stream",
     "text": [
      "Fitting 5 folds for each of 20 candidates, totalling 100 fits\n"
     ]
    },
    {
     "data": {
      "text/plain": [
       "GridSearchCV(cv=5, estimator=KNeighborsRegressor(),\n",
       "             param_grid={'n_neighbors': range(1, 51, 5),\n",
       "                         'weights': ['uniform', 'distance']},\n",
       "             verbose=1)"
      ]
     },
     "execution_count": 25,
     "metadata": {},
     "output_type": "execute_result"
    }
   ],
   "source": [
    "knn_gridsearch = GridSearchCV(KNeighborsRegressor(),\n",
    "                             knn_params, \n",
    "                             cv = 5, \n",
    "                             verbose = 1)\n",
    "knn_gridsearch.fit(X_train, y_train)"
   ]
  },
  {
   "cell_type": "code",
   "execution_count": 26,
   "id": "50464fb5-7a4b-4c1f-ac8d-4ffcaa1435cc",
   "metadata": {},
   "outputs": [
    {
     "data": {
      "text/plain": [
       "{'n_neighbors': 21, 'weights': 'uniform'}"
      ]
     },
     "execution_count": 26,
     "metadata": {},
     "output_type": "execute_result"
    }
   ],
   "source": [
    "knn_gridsearch.best_params_"
   ]
  },
  {
   "cell_type": "code",
   "execution_count": 27,
   "id": "ea498cc5-b5d1-4ce2-a527-485152fac920",
   "metadata": {},
   "outputs": [
    {
     "name": "stdout",
     "output_type": "stream",
     "text": [
      "RMSE training: 2240370.5965215294\n",
      "RMSE testing: 2858291.865605364\n"
     ]
    }
   ],
   "source": [
    "knn = KNeighborsRegressor(n_neighbors= 21,weights='uniform')\n",
    "knn.fit(X_train,y_train)\n",
    "\n",
    "#create predictions\n",
    "train_preds = knn.predict(X_train)\n",
    "test_preds = knn.predict(X_test)\n",
    "# RMSE\n",
    "print(f'RMSE training: {metrics.mean_squared_error(y_train, train_preds, squared = False)}')\n",
    "print(f'RMSE testing: {metrics.mean_squared_error(y_test, test_preds, squared = False)}')"
   ]
  },
  {
   "cell_type": "markdown",
   "id": "aa72f528-654c-41d8-b42f-e59125f0a6c8",
   "metadata": {},
   "source": [
    "### Random Forest"
   ]
  },
  {
   "cell_type": "code",
   "execution_count": 28,
   "id": "74fe97e7-4eed-4348-90bc-9d644ea27f71",
   "metadata": {},
   "outputs": [],
   "source": [
    "rf_params = {\n",
    "    'n_estimators': [100, 150, 200],\n",
    "    'max_depth': [None, 1, 2, 3, 4, 5],\n",
    "    'random_state': [42]\n",
    "}"
   ]
  },
  {
   "cell_type": "code",
   "execution_count": 29,
   "id": "034fd743-0328-4fb3-8b51-914530d7f90f",
   "metadata": {},
   "outputs": [
    {
     "name": "stdout",
     "output_type": "stream",
     "text": [
      "Fitting 5 folds for each of 18 candidates, totalling 90 fits\n"
     ]
    },
    {
     "data": {
      "text/plain": [
       "GridSearchCV(cv=5, estimator=RandomForestRegressor(),\n",
       "             param_grid={'max_depth': [None, 1, 2, 3, 4, 5],\n",
       "                         'n_estimators': [100, 150, 200],\n",
       "                         'random_state': [42]},\n",
       "             verbose=1)"
      ]
     },
     "execution_count": 29,
     "metadata": {},
     "output_type": "execute_result"
    }
   ],
   "source": [
    "rf_gridsearch = GridSearchCV(RandomForestRegressor(),\n",
    "                             rf_params, \n",
    "                             cv = 5, \n",
    "                             verbose = 1)\n",
    "rf_gridsearch.fit(X_train, y_train)"
   ]
  },
  {
   "cell_type": "code",
   "execution_count": 30,
   "id": "5ae0416f-b848-4e40-88b5-26cc587ddf24",
   "metadata": {},
   "outputs": [
    {
     "data": {
      "text/plain": [
       "{'max_depth': 5, 'n_estimators': 100, 'random_state': 42}"
      ]
     },
     "execution_count": 30,
     "metadata": {},
     "output_type": "execute_result"
    }
   ],
   "source": [
    "rf_gridsearch.best_params_"
   ]
  },
  {
   "cell_type": "code",
   "execution_count": 31,
   "id": "ff9a3a92-2b19-4628-b665-f4e2a80c1274",
   "metadata": {
    "tags": []
   },
   "outputs": [
    {
     "name": "stdout",
     "output_type": "stream",
     "text": [
      "RMSE training: 1124666.6395238233\n",
      "RMSE testing: 2891690.882396077\n"
     ]
    }
   ],
   "source": [
    "rf = RandomForestRegressor(n_estimators=100,max_depth=5,random_state=42)\n",
    "rf.fit(X_train,y_train)\n",
    "\n",
    "train_preds = rf.predict(X_train)\n",
    "test_preds = rf.predict(X_test)\n",
    "\n",
    "# squared=False gives us the square root\n",
    "print(f'RMSE training: {metrics.mean_squared_error(y_train, train_preds, squared = False)}')\n",
    "print(f'RMSE testing: {metrics.mean_squared_error(y_test, test_preds, squared = False)}')"
   ]
  },
  {
   "cell_type": "markdown",
   "id": "fe2cc1c2-5c01-4e3e-a2e8-ce393cbdfa66",
   "metadata": {},
   "source": [
    "### findings "
   ]
  },
  {
   "cell_type": "markdown",
   "id": "8235b674-1f35-41da-a39f-ff6b231d17ad",
   "metadata": {},
   "source": [
    "|               | Linear Regression     | Rigde      | knn Regressor | Random Forest |\n",
    "|---------------|-----------------------|------------|---------------|---------------|\n",
    "| RMSE training | 4.003059365125201e-08 | 1109581.78 | 2240370.59    | 1124666.63    |\n",
    "| RMSE testing  | 17675665.06           | 7033187.88 | 2858291.86    | 2891690.88    |"
   ]
  },
  {
   "cell_type": "markdown",
   "id": "b32d82de-9a10-423b-a820-67539f37908d",
   "metadata": {},
   "source": [
    "Comparing the models we can say that the Linear Regession model was the one with the lowest performance, to try to improve this model we could use the entire dataset for training and try to make a type of feature selection.\n",
    "The model that I would personally use would be the Ridge model because both the training and testing datasets were very close and also have the lowest values. to try to improve this model I would try to apply the same procedures for the Linear Regression model"
   ]
  },
  {
   "cell_type": "markdown",
   "id": "cdba76a1-3617-4e8d-9e17-b5806d631333",
   "metadata": {},
   "source": [
    "### kaggle process "
   ]
  },
  {
   "cell_type": "code",
   "execution_count": 33,
   "id": "6e1366d3-3420-4389-90b9-35a2bfeb8d97",
   "metadata": {},
   "outputs": [],
   "source": [
    "poly_test = PolynomialFeatures(include_bias = False, degree=2, interaction_only=False)\n",
    "X_overfit_test = poly.fit_transform(test[features])\n",
    "\n"
   ]
  },
  {
   "cell_type": "code",
   "execution_count": 34,
   "id": "82e3e2d7-5523-47a5-980d-6b535b074e44",
   "metadata": {},
   "outputs": [
    {
     "data": {
      "text/plain": [
       "(100000, 860)"
      ]
     },
     "execution_count": 34,
     "metadata": {},
     "output_type": "execute_result"
    }
   ],
   "source": [
    "X_overfit_test.shape"
   ]
  },
  {
   "cell_type": "code",
   "execution_count": 37,
   "id": "4ca8d3b9-3d6e-4425-8990-bc0d1b5364bc",
   "metadata": {},
   "outputs": [],
   "source": [
    "kaggle_preds = knn.predict(X_overfit_test)"
   ]
  },
  {
   "cell_type": "code",
   "execution_count": 38,
   "id": "747492ee-bb82-4d50-a767-447060277fe0",
   "metadata": {},
   "outputs": [],
   "source": [
    "test['prediction'] = kaggle_preds"
   ]
  },
  {
   "cell_type": "code",
   "execution_count": 39,
   "id": "cc5d8753-37d4-4c52-8ab8-285b4042b47b",
   "metadata": {},
   "outputs": [],
   "source": [
    "test_kaggle=test[['Id','prediction']]"
   ]
  },
  {
   "cell_type": "code",
   "execution_count": 40,
   "id": "8cde6ca0-0000-46b7-88bd-2f33bbceab1f",
   "metadata": {},
   "outputs": [
    {
     "data": {
      "text/html": [
       "<div>\n",
       "<style scoped>\n",
       "    .dataframe tbody tr th:only-of-type {\n",
       "        vertical-align: middle;\n",
       "    }\n",
       "\n",
       "    .dataframe tbody tr th {\n",
       "        vertical-align: top;\n",
       "    }\n",
       "\n",
       "    .dataframe thead th {\n",
       "        text-align: right;\n",
       "    }\n",
       "</style>\n",
       "<table border=\"1\" class=\"dataframe\">\n",
       "  <thead>\n",
       "    <tr style=\"text-align: right;\">\n",
       "      <th></th>\n",
       "      <th>Id</th>\n",
       "      <th>prediction</th>\n",
       "    </tr>\n",
       "  </thead>\n",
       "  <tbody>\n",
       "    <tr>\n",
       "      <th>0</th>\n",
       "      <td>0</td>\n",
       "      <td>5.247229e+06</td>\n",
       "    </tr>\n",
       "    <tr>\n",
       "      <th>1</th>\n",
       "      <td>1</td>\n",
       "      <td>4.494984e+06</td>\n",
       "    </tr>\n",
       "    <tr>\n",
       "      <th>2</th>\n",
       "      <td>2</td>\n",
       "      <td>5.238823e+06</td>\n",
       "    </tr>\n",
       "    <tr>\n",
       "      <th>3</th>\n",
       "      <td>3</td>\n",
       "      <td>4.894730e+06</td>\n",
       "    </tr>\n",
       "    <tr>\n",
       "      <th>4</th>\n",
       "      <td>4</td>\n",
       "      <td>5.295679e+06</td>\n",
       "    </tr>\n",
       "  </tbody>\n",
       "</table>\n",
       "</div>"
      ],
      "text/plain": [
       "   Id    prediction\n",
       "0   0  5.247229e+06\n",
       "1   1  4.494984e+06\n",
       "2   2  5.238823e+06\n",
       "3   3  4.894730e+06\n",
       "4   4  5.295679e+06"
      ]
     },
     "execution_count": 40,
     "metadata": {},
     "output_type": "execute_result"
    }
   ],
   "source": [
    "test_kaggle.head()"
   ]
  },
  {
   "cell_type": "code",
   "execution_count": 41,
   "id": "a8322f00-1446-4203-83a6-0efaf3ec5309",
   "metadata": {
    "tags": []
   },
   "outputs": [],
   "source": [
    "test_kaggle.to_csv('submission.csv', index=False)"
   ]
  },
  {
   "cell_type": "code",
   "execution_count": null,
   "id": "a39f623d-ee18-4377-a7ba-4e0c73e5ba63",
   "metadata": {},
   "outputs": [],
   "source": []
  }
 ],
 "metadata": {
  "kernelspec": {
   "display_name": "Python 3",
   "language": "python",
   "name": "python3"
  },
  "language_info": {
   "codemirror_mode": {
    "name": "ipython",
    "version": 3
   },
   "file_extension": ".py",
   "mimetype": "text/x-python",
   "name": "python",
   "nbconvert_exporter": "python",
   "pygments_lexer": "ipython3",
   "version": "3.8.2"
  }
 },
 "nbformat": 4,
 "nbformat_minor": 5
}
